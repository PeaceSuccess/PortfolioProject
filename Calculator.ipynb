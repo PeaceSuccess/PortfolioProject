{
 "cells": [
  {
   "cell_type": "markdown",
   "id": "ed8ec965",
   "metadata": {},
   "source": [
    "# Calculator"
   ]
  },
  {
   "cell_type": "code",
   "execution_count": null,
   "id": "ae403ac7",
   "metadata": {},
   "outputs": [
    {
     "name": "stdout",
     "output_type": "stream",
     "text": [
      "Enter the first number: 12\n",
      "+\n",
      "-\n",
      "*\n",
      "/\n",
      "**\n",
      "%\n",
      "Pick an operation from the line above: +\n",
      "Enter the second number: 10\n",
      "12 + 10 = 22\n",
      "Type 'y' to continue calculating with 22, or type 'n' to start a new calculation: y\n",
      "Pick an operation from the line above: **\n",
      "Enter the second number: 2\n",
      "22 ** 2 = 484\n"
     ]
    }
   ],
   "source": [
    "\n",
    "def add(n1, n2):\n",
    "    return n1 + n2\n",
    "\n",
    "def subtract(n1, n2):\n",
    "    return n1 - n2\n",
    "\n",
    "def multiply(n1, n2):\n",
    "    return n1 * n2\n",
    "\n",
    "def divide(n1, n2):\n",
    "    return n1 / n2\n",
    "\n",
    "def exponent(n1, n2):\n",
    "    return n1 ** n2\n",
    "\n",
    "operations = {\n",
    "    \"+\": add,\n",
    "    \"-\": subtract,\n",
    "    \"*\": multiply,\n",
    "    \"/\": divide,\n",
    "    \"**\": exponent\n",
    "}\n",
    "\n",
    "def calculator():\n",
    "    number_1 = float(input(\"Enter the first number: \"))\n",
    "    for symbol in operations:\n",
    "        print(symbol)\n",
    "    should_continue = True\n",
    "    \n",
    "    while should_continue:\n",
    "        operation_symbol = input(\"Pick an operation from the line above: \")\n",
    "        number_2 = float(input(\"Enter the second number: \"))\n",
    "        calculation_function = operations[operation_symbol]\n",
    "        answer = calculation_function(number_1, number_2)\n",
    "        \n",
    "        print(f\"{number_1} {operation_symbol} {number_2} = {answer}\")\n",
    "        \n",
    "        if input(f\"Type 'y' to continue calculating with {answer}, or type 'n' to start a new calculation: \") == \"y\":\n",
    "            number_1 = answer\n",
    "        else:should_continue = False\n",
    "\n",
    "calculator()\n"
   ]
  }
 ],
 "metadata": {
  "kernelspec": {
   "display_name": "Python 3 (ipykernel)",
   "language": "python",
   "name": "python3"
  },
  "language_info": {
   "codemirror_mode": {
    "name": "ipython",
    "version": 3
   },
   "file_extension": ".py",
   "mimetype": "text/x-python",
   "name": "python",
   "nbconvert_exporter": "python",
   "pygments_lexer": "ipython3",
   "version": "3.9.13"
  }
 },
 "nbformat": 4,
 "nbformat_minor": 5
}
