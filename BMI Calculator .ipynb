{
 "cells": [
  {
   "cell_type": "markdown",
   "id": "c743d27a",
   "metadata": {},
   "source": [
    "# BMI Calculator"
   ]
  },
  {
   "cell_type": "code",
   "execution_count": null,
   "id": "3e345cdc",
   "metadata": {},
   "outputs": [],
   "source": [
    "\n",
    "weight = int(input(\"Enter your weight in kg: \"))\n",
    "height = float(input(\"Enter your height in m: \"))\n",
    "bmi = weight / height ** 2\n",
    "\n",
    "if bmi < 18.5:\n",
    "    print(f\"Your BMI is {bmi}, you are under weight.\")\n",
    "elif bmi < 25:\n",
    "    print(f\"Your BMI is {bmi}, you are normal weight.\")\n",
    "elif bmi < 30:\n",
    "    print(f\"Your BMI is {bmi}, you are overweight.\")\n",
    "elif bmi < 35:\n",
    "    print(f\"Your BMI is {bmi}, you are obese.\")\n",
    "else:\n",
    "    print(f\"Your BMI is {bmi}, you are clinically obese.\")"
   ]
  },
  {
   "cell_type": "code",
   "execution_count": null,
   "id": "d446f2cf",
   "metadata": {},
   "outputs": [],
   "source": []
  }
 ],
 "metadata": {
  "kernelspec": {
   "display_name": "Python 3 (ipykernel)",
   "language": "python",
   "name": "python3"
  },
  "language_info": {
   "codemirror_mode": {
    "name": "ipython",
    "version": 3
   },
   "file_extension": ".py",
   "mimetype": "text/x-python",
   "name": "python",
   "nbconvert_exporter": "python",
   "pygments_lexer": "ipython3",
   "version": "3.9.13"
  }
 },
 "nbformat": 4,
 "nbformat_minor": 5
}
